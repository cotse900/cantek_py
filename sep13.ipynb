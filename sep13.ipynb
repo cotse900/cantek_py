{
 "cells": [
  {
   "cell_type": "code",
   "execution_count": 32,
   "id": "71a77955-fa54-4957-95d8-123b7902c9b9",
   "metadata": {},
   "outputs": [],
   "source": [
    "my_list = [3, 7, 8, 'asd', 'a']"
   ]
  },
  {
   "cell_type": "code",
   "execution_count": 1,
   "id": "13e52864-d571-44d9-b132-4c7d47904f29",
   "metadata": {},
   "outputs": [],
   "source": [
    "my_bool = True\n",
    "my_bool1 = False"
   ]
  },
  {
   "cell_type": "code",
   "execution_count": 3,
   "id": "5c0c0a5e-8900-4bca-a4e2-00ab53d4a29c",
   "metadata": {},
   "outputs": [],
   "source": [
    "if my_bool1:\n",
    "    print('hello')"
   ]
  },
  {
   "cell_type": "code",
   "execution_count": 4,
   "id": "2489ec51-5e87-4a12-b006-f6d5b9fe81cf",
   "metadata": {},
   "outputs": [
    {
     "data": {
      "text/plain": [
       "16"
      ]
     },
     "execution_count": 4,
     "metadata": {},
     "output_type": "execute_result"
    }
   ],
   "source": [
    "4**2"
   ]
  },
  {
   "cell_type": "code",
   "execution_count": 6,
   "id": "9fb94a12-f87d-4556-8cb2-dcbee008079c",
   "metadata": {},
   "outputs": [
    {
     "data": {
      "text/plain": [
       "True"
      ]
     },
     "execution_count": 6,
     "metadata": {},
     "output_type": "execute_result"
    }
   ],
   "source": [
    "6 != 7"
   ]
  },
  {
   "cell_type": "code",
   "execution_count": 17,
   "id": "3280ad8a-0a7a-4332-8013-7e18792267b6",
   "metadata": {},
   "outputs": [
    {
     "data": {
      "text/plain": [
       "[8, 'asd']"
      ]
     },
     "execution_count": 17,
     "metadata": {},
     "output_type": "execute_result"
    }
   ],
   "source": [
    "my_list[2:10]"
   ]
  },
  {
   "cell_type": "code",
   "execution_count": 20,
   "id": "8bfb43d9-4696-4d8f-8aac-41d9388ef2a0",
   "metadata": {},
   "outputs": [
    {
     "data": {
      "text/plain": [
       "[7, 8]"
      ]
     },
     "execution_count": 20,
     "metadata": {},
     "output_type": "execute_result"
    }
   ],
   "source": [
    "my_list[1:3]"
   ]
  },
  {
   "cell_type": "code",
   "execution_count": 21,
   "id": "dd354ca9-7ba7-4fc1-839f-9dcbabd93a6a",
   "metadata": {},
   "outputs": [
    {
     "data": {
      "text/plain": [
       "'asd'"
      ]
     },
     "execution_count": 21,
     "metadata": {},
     "output_type": "execute_result"
    }
   ],
   "source": [
    "my_list[-1]"
   ]
  },
  {
   "cell_type": "code",
   "execution_count": 22,
   "id": "8cb2b446-980b-4882-bf20-16519bee357c",
   "metadata": {},
   "outputs": [
    {
     "data": {
      "text/plain": [
       "'w'"
      ]
     },
     "execution_count": 22,
     "metadata": {},
     "output_type": "execute_result"
    }
   ],
   "source": [
    "'this is a word'[10]"
   ]
  },
  {
   "cell_type": "code",
   "execution_count": 23,
   "id": "9f51cace-252d-4ba8-8ded-fe34755ee126",
   "metadata": {},
   "outputs": [
    {
     "data": {
      "text/plain": [
       "'s is'"
      ]
     },
     "execution_count": 23,
     "metadata": {},
     "output_type": "execute_result"
    }
   ],
   "source": [
    "'this is a word'[3:7]"
   ]
  },
  {
   "cell_type": "code",
   "execution_count": 24,
   "id": "7cda5bf4-4f3d-4a6a-9762-c4bd6a1fc43f",
   "metadata": {},
   "outputs": [],
   "source": [
    "my_list.append(57)"
   ]
  },
  {
   "cell_type": "code",
   "execution_count": 25,
   "id": "593a9b68-44b8-4837-b90f-d765f8bfd815",
   "metadata": {},
   "outputs": [
    {
     "data": {
      "text/plain": [
       "[3, 7, 8, 'asd', 57]"
      ]
     },
     "execution_count": 25,
     "metadata": {},
     "output_type": "execute_result"
    }
   ],
   "source": [
    "my_list"
   ]
  },
  {
   "cell_type": "code",
   "execution_count": 26,
   "id": "649caf1b-a99c-4f80-80cb-0876191e2cac",
   "metadata": {},
   "outputs": [],
   "source": [
    "new_storage = my_list.pop()"
   ]
  },
  {
   "cell_type": "code",
   "execution_count": 27,
   "id": "991f7ea1-c2cb-4723-9e90-f49419b0bb73",
   "metadata": {},
   "outputs": [
    {
     "data": {
      "text/plain": [
       "57"
      ]
     },
     "execution_count": 27,
     "metadata": {},
     "output_type": "execute_result"
    }
   ],
   "source": [
    "new_storage"
   ]
  },
  {
   "cell_type": "code",
   "execution_count": 28,
   "id": "926cc08a-ce7c-43f4-89ae-971879b6c781",
   "metadata": {},
   "outputs": [
    {
     "data": {
      "text/plain": [
       "[3, 7, 8, 'asd']"
      ]
     },
     "execution_count": 28,
     "metadata": {},
     "output_type": "execute_result"
    }
   ],
   "source": [
    "my_list"
   ]
  },
  {
   "cell_type": "code",
   "execution_count": 31,
   "id": "05151395-b431-40d9-bad2-d6e7dc3b16cd",
   "metadata": {},
   "outputs": [
    {
     "name": "stdout",
     "output_type": "stream",
     "text": [
      "3\n",
      "7\n",
      "8\n",
      "asd\n"
     ]
    }
   ],
   "source": [
    "for i in my_list:\n",
    "    print(i)\n",
    "# print out all elem"
   ]
  },
  {
   "cell_type": "code",
   "execution_count": 33,
   "id": "06f77393-634b-40a4-b326-ceffc46de638",
   "metadata": {},
   "outputs": [
    {
     "name": "stdout",
     "output_type": "stream",
     "text": [
      "Found\n"
     ]
    }
   ],
   "source": [
    "if 'a' in my_list:\n",
    "    print('Found')\n",
    "else:\n",
    "    print('Not found')"
   ]
  },
  {
   "cell_type": "code",
   "execution_count": 35,
   "id": "27383610-cb02-47db-ba3e-bc39d992f691",
   "metadata": {},
   "outputs": [],
   "source": [
    "def search_element(element, a_list):\n",
    "    if element in a_list:\n",
    "        print('Found')\n",
    "    else:\n",
    "        print('Not found')"
   ]
  },
  {
   "cell_type": "code",
   "execution_count": 37,
   "id": "37aca3e1-1422-4ee0-8fd0-5371ec1517cc",
   "metadata": {},
   "outputs": [
    {
     "name": "stdout",
     "output_type": "stream",
     "text": [
      "Found\n"
     ]
    }
   ],
   "source": [
    "search_element('a', my_list)"
   ]
  },
  {
   "cell_type": "code",
   "execution_count": 44,
   "id": "c15235c1-cb13-4aab-b1ee-ecf9833bff2d",
   "metadata": {},
   "outputs": [
    {
     "name": "stdout",
     "output_type": "stream",
     "text": [
      "0\n",
      "Not found\n",
      "1\n",
      "Not found\n",
      "2\n",
      "Not found\n",
      "3\n",
      "Found\n",
      "4\n",
      "Not found\n",
      "5\n",
      "Not found\n",
      "6\n",
      "Not found\n",
      "7\n",
      "Found\n",
      "8\n",
      "Found\n",
      "9\n",
      "Not found\n"
     ]
    }
   ],
   "source": [
    "for i in range(0,10):\n",
    "    print(i)\n",
    "    search_element(i, my_list)\n",
    "# 3,7,8 are present"
   ]
  },
  {
   "cell_type": "code",
   "execution_count": 45,
   "id": "e6a58818-0094-463b-9d05-16c63d1a7142",
   "metadata": {},
   "outputs": [],
   "source": [
    "my_list.append([1,2,7])"
   ]
  },
  {
   "cell_type": "code",
   "execution_count": 47,
   "id": "4cb17084-dac1-4312-8e81-3daabbba69d3",
   "metadata": {},
   "outputs": [
    {
     "data": {
      "text/plain": [
       "[3, 7, 8, 'asd', 'a', [1, 2, 7]]"
      ]
     },
     "execution_count": 47,
     "metadata": {},
     "output_type": "execute_result"
    }
   ],
   "source": [
    "my_list"
   ]
  },
  {
   "cell_type": "code",
   "execution_count": 48,
   "id": "5408f05c-4eaa-4bb9-810a-ffa3e2412a59",
   "metadata": {},
   "outputs": [],
   "source": [
    "personal_dict = {'name': 'Bob', 'profession': 'doctor', 'residence': 'London', 'age': 47}"
   ]
  },
  {
   "cell_type": "code",
   "execution_count": 49,
   "id": "883e7215-43e1-4269-a9f0-6f725cef7347",
   "metadata": {},
   "outputs": [
    {
     "name": "stdout",
     "output_type": "stream",
     "text": [
      "name\n",
      "profession\n",
      "residence\n",
      "age\n"
     ]
    }
   ],
   "source": [
    "for i in personal_dict:\n",
    "    print(i)"
   ]
  },
  {
   "cell_type": "code",
   "execution_count": 50,
   "id": "4b55051c-2a77-466c-84ef-7a51936211e1",
   "metadata": {},
   "outputs": [
    {
     "name": "stdout",
     "output_type": "stream",
     "text": [
      "Bob\n",
      "doctor\n",
      "London\n",
      "47\n"
     ]
    }
   ],
   "source": [
    "for i in personal_dict.values():\n",
    "    print(i)"
   ]
  },
  {
   "cell_type": "code",
   "execution_count": 53,
   "id": "c578e3d4-3855-4186-9d67-739f114c8d30",
   "metadata": {},
   "outputs": [
    {
     "data": {
      "text/plain": [
       "'Bob'"
      ]
     },
     "execution_count": 53,
     "metadata": {},
     "output_type": "execute_result"
    }
   ],
   "source": [
    "personal_dict['name']"
   ]
  },
  {
   "cell_type": "code",
   "execution_count": 58,
   "id": "8e187b9b-769d-4404-98b0-d4f8b730453b",
   "metadata": {},
   "outputs": [
    {
     "name": "stdout",
     "output_type": "stream",
     "text": [
      "name: Bob\n",
      "profession: doctor\n",
      "residence: London\n",
      "age: 47\n"
     ]
    }
   ],
   "source": [
    "for i in personal_dict:\n",
    "    print(i + ': ' + str(personal_dict[i]))"
   ]
  },
  {
   "cell_type": "code",
   "execution_count": 59,
   "id": "89e58a65-c559-473d-bf6c-6836e8708b21",
   "metadata": {},
   "outputs": [],
   "source": [
    "personal_dict['city'] = 'Glasgow'"
   ]
  },
  {
   "cell_type": "code",
   "execution_count": 60,
   "id": "a54bd762-ded6-4054-b95e-16c65548ed8f",
   "metadata": {},
   "outputs": [
    {
     "data": {
      "text/plain": [
       "{'name': 'Bob',\n",
       " 'profession': 'doctor',\n",
       " 'residence': 'London',\n",
       " 'age': 47,\n",
       " 'city': 'Glasgow'}"
      ]
     },
     "execution_count": 60,
     "metadata": {},
     "output_type": "execute_result"
    }
   ],
   "source": [
    "personal_dict"
   ]
  },
  {
   "cell_type": "code",
   "execution_count": 61,
   "id": "78ca2e88-5a88-479d-81ef-5c081ff02131",
   "metadata": {},
   "outputs": [],
   "source": [
    "personal_dict['specialization'] = 'orthopedic'"
   ]
  },
  {
   "cell_type": "code",
   "execution_count": 62,
   "id": "fc16d67f-8c8c-4eec-b913-22cf3a3bd18a",
   "metadata": {},
   "outputs": [
    {
     "data": {
      "text/plain": [
       "{'name': 'Bob',\n",
       " 'profession': 'doctor',\n",
       " 'residence': 'London',\n",
       " 'age': 47,\n",
       " 'city': 'Glasgow',\n",
       " 'specialization': 'orthopedic'}"
      ]
     },
     "execution_count": 62,
     "metadata": {},
     "output_type": "execute_result"
    }
   ],
   "source": [
    "personal_dict"
   ]
  },
  {
   "cell_type": "code",
   "execution_count": 64,
   "id": "51692648-de63-4e5f-bbc3-32bb24ffc9fe",
   "metadata": {},
   "outputs": [],
   "source": [
    "personal_dict['education'] = {'undergrad': 'u of t', 'med school': 'ubc'}"
   ]
  },
  {
   "cell_type": "code",
   "execution_count": 65,
   "id": "2b060ec3-f006-4c97-a5b1-c0d05329e7f1",
   "metadata": {},
   "outputs": [
    {
     "data": {
      "text/plain": [
       "{'name': 'Bob',\n",
       " 'profession': 'doctor',\n",
       " 'residence': 'London',\n",
       " 'age': 47,\n",
       " 'city': 'Glasgow',\n",
       " 'specialization': 'orthopedic',\n",
       " 'education': {'undergrad': 'u of t', 'med school': 'ubc'}}"
      ]
     },
     "execution_count": 65,
     "metadata": {},
     "output_type": "execute_result"
    }
   ],
   "source": [
    "personal_dict"
   ]
  },
  {
   "cell_type": "code",
   "execution_count": 66,
   "id": "b9041212-d6b9-4212-a881-819687a62ee9",
   "metadata": {},
   "outputs": [],
   "source": [
    "personal_dict['education']['undergrad'] = {'school': 'UofT', 'major':'BSc in biochem'}"
   ]
  },
  {
   "cell_type": "code",
   "execution_count": 67,
   "id": "8ea5e239-c830-413d-99e7-e28be145ec69",
   "metadata": {},
   "outputs": [
    {
     "data": {
      "text/plain": [
       "{'name': 'Bob',\n",
       " 'profession': 'doctor',\n",
       " 'residence': 'London',\n",
       " 'age': 47,\n",
       " 'city': 'Glasgow',\n",
       " 'specialization': 'orthopedic',\n",
       " 'education': {'undergrad': {'school': 'UofT', 'major': 'BSc in biochem'},\n",
       "  'med school': 'ubc'}}"
      ]
     },
     "execution_count": 67,
     "metadata": {},
     "output_type": "execute_result"
    }
   ],
   "source": [
    "personal_dict"
   ]
  },
  {
   "cell_type": "code",
   "execution_count": 68,
   "id": "5e20f14f-03cd-4f07-a655-b47a5dff5685",
   "metadata": {},
   "outputs": [],
   "source": [
    "personal_dict['education']['med school'] = 'grad school'"
   ]
  },
  {
   "cell_type": "code",
   "execution_count": 69,
   "id": "6c370994-4edf-4aa6-a3e7-1b98e4395844",
   "metadata": {},
   "outputs": [],
   "source": [
    "personal_dict['education']['grad school'] = {'school': 'UBC', 'type': 'MD'}"
   ]
  },
  {
   "cell_type": "code",
   "execution_count": 70,
   "id": "8b086186-317a-4a00-8077-a1c58c203731",
   "metadata": {},
   "outputs": [
    {
     "data": {
      "text/plain": [
       "{'name': 'Bob',\n",
       " 'profession': 'doctor',\n",
       " 'residence': 'London',\n",
       " 'age': 47,\n",
       " 'city': 'Glasgow',\n",
       " 'specialization': 'orthopedic',\n",
       " 'education': {'undergrad': {'school': 'UofT', 'major': 'BSc in biochem'},\n",
       "  'med school': 'grad school',\n",
       "  'grad school': {'school': 'UBC', 'type': 'MD'}}}"
      ]
     },
     "execution_count": 70,
     "metadata": {},
     "output_type": "execute_result"
    }
   ],
   "source": [
    "personal_dict"
   ]
  },
  {
   "cell_type": "code",
   "execution_count": 72,
   "id": "d939d007-0593-4bd4-8a01-82bad172d6d2",
   "metadata": {},
   "outputs": [
    {
     "data": {
      "text/plain": [
       "{'name': 'Bob',\n",
       " 'profession': 'doctor',\n",
       " 'residence': 'London',\n",
       " 'age': 47,\n",
       " 'city': 'Glasgow',\n",
       " 'specialization': 'orthopedic',\n",
       " 'education': {'undergrad': {'school': 'UofT', 'major': 'BSc in biochem'},\n",
       "  'grad school': {'school': 'UBC', 'type': 'MD'}}}"
      ]
     },
     "execution_count": 72,
     "metadata": {},
     "output_type": "execute_result"
    }
   ],
   "source": [
    "personal_dict['education'].pop('med school', None)\n",
    "personal_dict"
   ]
  },
  {
   "cell_type": "code",
   "execution_count": 74,
   "id": "7ab883b9-4db1-4daf-9e11-3f5b004ee778",
   "metadata": {},
   "outputs": [],
   "source": [
    "data_dict = {'variable1':[1,5,7,9,11]}"
   ]
  },
  {
   "cell_type": "code",
   "execution_count": 75,
   "id": "b7de08c1-aa67-4437-9b48-aba3dbf0e817",
   "metadata": {},
   "outputs": [
    {
     "name": "stdout",
     "output_type": "stream",
     "text": [
      "0\n",
      "1\n",
      "2\n",
      "3\n",
      "4\n",
      "5\n",
      "6\n",
      "7\n",
      "8\n",
      "9\n"
     ]
    }
   ],
   "source": [
    "tracker = 0\n",
    "while tracker < 10:\n",
    "    print(tracker)\n",
    "    tracker += 1"
   ]
  },
  {
   "cell_type": "code",
   "execution_count": 77,
   "id": "7f960e66-7bed-406a-8d23-5feea96346d3",
   "metadata": {},
   "outputs": [],
   "source": [
    "import pandas as pd\n",
    "import numpy as np\n",
    "import matplotlib.pyplot as plt"
   ]
  },
  {
   "cell_type": "code",
   "execution_count": 78,
   "id": "eb151794-bfc1-4c07-a058-3ccf50963612",
   "metadata": {},
   "outputs": [
    {
     "data": {
      "text/plain": [
       "'C:\\\\Users\\\\genig\\\\source\\\\repos\\\\cantek_py'"
      ]
     },
     "execution_count": 78,
     "metadata": {},
     "output_type": "execute_result"
    }
   ],
   "source": [
    "pwd"
   ]
  },
  {
   "cell_type": "code",
   "execution_count": 89,
   "id": "ba7ca221-2a77-457c-bb2e-478ca79fa7ed",
   "metadata": {},
   "outputs": [
    {
     "name": "stdout",
     "output_type": "stream",
     "text": [
      " Volume in drive C is OS\n",
      " Volume Serial Number is 8EC5-8907\n",
      "\n",
      " Directory of C:\\Users\\genig\\source\\repos\\cantek_py\n",
      "\n",
      "09/13/2023  04:32 PM    <DIR>          .\n",
      "09/13/2023  04:32 PM    <DIR>          ..\n",
      "09/12/2023  05:53 PM    <DIR>          .idea\n",
      "09/13/2023  03:20 PM    <DIR>          .ipynb_checkpoints\n",
      "09/13/2023  04:18 PM            80,417 Countries_of_the_world_1970.xlsx\n",
      "09/13/2023  04:32 PM            64,062 imputed_international_data_70.csv\n",
      "09/13/2023  04:31 PM            17,144 sep13.ipynb\n",
      "               3 File(s)        161,623 bytes\n",
      "               4 Dir(s)  173,402,591,232 bytes free\n"
     ]
    }
   ],
   "source": [
    "ls"
   ]
  },
  {
   "cell_type": "code",
   "execution_count": 90,
   "id": "aa469938-6063-42e2-8c50-5516b34c97c8",
   "metadata": {},
   "outputs": [],
   "source": [
    "country_data = pd.read_csv('imputed_international_data_70.csv')"
   ]
  },
  {
   "cell_type": "code",
   "execution_count": 91,
   "id": "a2a2ccb7-159f-4337-bfb2-12f74ed28160",
   "metadata": {},
   "outputs": [
    {
     "data": {
      "text/html": [
       "<div>\n",
       "<style scoped>\n",
       "    .dataframe tbody tr th:only-of-type {\n",
       "        vertical-align: middle;\n",
       "    }\n",
       "\n",
       "    .dataframe tbody tr th {\n",
       "        vertical-align: top;\n",
       "    }\n",
       "\n",
       "    .dataframe thead th {\n",
       "        text-align: right;\n",
       "    }\n",
       "</style>\n",
       "<table border=\"1\" class=\"dataframe\">\n",
       "  <thead>\n",
       "    <tr style=\"text-align: right;\">\n",
       "      <th></th>\n",
       "      <th>Alliance</th>\n",
       "      <th>Countries</th>\n",
       "      <th>Entity</th>\n",
       "      <th>Id</th>\n",
       "      <th>Inflation..Most.recent.year</th>\n",
       "      <th>Regime type</th>\n",
       "      <th>Regimenarrowcat</th>\n",
       "      <th>Black.market.exchange.rates</th>\n",
       "      <th>Capital.controls</th>\n",
       "      <th>Centralized.collective.bargaining</th>\n",
       "      <th>...</th>\n",
       "      <th>Ownership.of.banks</th>\n",
       "      <th>Private.sector.credit</th>\n",
       "      <th>Regulation</th>\n",
       "      <th>Revenue.from.trade.taxes....of.trade.sector.</th>\n",
       "      <th>Size.of.Government</th>\n",
       "      <th>Sound.Money</th>\n",
       "      <th>Standard.deviation.of.inflation</th>\n",
       "      <th>State.ownership.of.assets</th>\n",
       "      <th>Tariffs</th>\n",
       "      <th>Transfers.and.subsidies</th>\n",
       "    </tr>\n",
       "  </thead>\n",
       "  <tbody>\n",
       "    <tr>\n",
       "      <th>0</th>\n",
       "      <td>not a US ally</td>\n",
       "      <td>NaN</td>\n",
       "      <td>Afghanistan</td>\n",
       "      <td>1</td>\n",
       "      <td>8.649356</td>\n",
       "      <td>Monarchy</td>\n",
       "      <td>8.0</td>\n",
       "      <td>6.300112</td>\n",
       "      <td>1.699655</td>\n",
       "      <td>5.897546</td>\n",
       "      <td>...</td>\n",
       "      <td>3.212626</td>\n",
       "      <td>6.896901</td>\n",
       "      <td>4.776903</td>\n",
       "      <td>4.834431</td>\n",
       "      <td>6.041385</td>\n",
       "      <td>7.157306</td>\n",
       "      <td>8.036588</td>\n",
       "      <td>5.025106</td>\n",
       "      <td>4.754259</td>\n",
       "      <td>8.740967</td>\n",
       "    </tr>\n",
       "    <tr>\n",
       "      <th>1</th>\n",
       "      <td>not a US ally</td>\n",
       "      <td>Albania</td>\n",
       "      <td>Albania</td>\n",
       "      <td>2</td>\n",
       "      <td>8.268596</td>\n",
       "      <td>Single-party rule</td>\n",
       "      <td>4.0</td>\n",
       "      <td>0.000000</td>\n",
       "      <td>0.000000</td>\n",
       "      <td>4.220652</td>\n",
       "      <td>...</td>\n",
       "      <td>-1.193845</td>\n",
       "      <td>2.474679</td>\n",
       "      <td>3.230021</td>\n",
       "      <td>1.441352</td>\n",
       "      <td>2.378599</td>\n",
       "      <td>5.228338</td>\n",
       "      <td>5.976895</td>\n",
       "      <td>0.180000</td>\n",
       "      <td>1.181994</td>\n",
       "      <td>8.262926</td>\n",
       "    </tr>\n",
       "    <tr>\n",
       "      <th>2</th>\n",
       "      <td>not a US ally</td>\n",
       "      <td>Algeria</td>\n",
       "      <td>Algeria</td>\n",
       "      <td>3</td>\n",
       "      <td>8.920000</td>\n",
       "      <td>Military rule</td>\n",
       "      <td>7.0</td>\n",
       "      <td>0.000000</td>\n",
       "      <td>0.000000</td>\n",
       "      <td>5.540452</td>\n",
       "      <td>...</td>\n",
       "      <td>0.000000</td>\n",
       "      <td>5.632514</td>\n",
       "      <td>3.630000</td>\n",
       "      <td>2.538643</td>\n",
       "      <td>5.110000</td>\n",
       "      <td>6.440000</td>\n",
       "      <td>9.350000</td>\n",
       "      <td>2.490000</td>\n",
       "      <td>2.433871</td>\n",
       "      <td>9.322154</td>\n",
       "    </tr>\n",
       "    <tr>\n",
       "      <th>3</th>\n",
       "      <td>not a US ally</td>\n",
       "      <td>Angola</td>\n",
       "      <td>Angola</td>\n",
       "      <td>4</td>\n",
       "      <td>7.416372</td>\n",
       "      <td>unknown</td>\n",
       "      <td>NaN</td>\n",
       "      <td>5.159399</td>\n",
       "      <td>0.489726</td>\n",
       "      <td>4.641346</td>\n",
       "      <td>...</td>\n",
       "      <td>1.404067</td>\n",
       "      <td>5.706777</td>\n",
       "      <td>3.778725</td>\n",
       "      <td>4.666204</td>\n",
       "      <td>5.434622</td>\n",
       "      <td>5.501005</td>\n",
       "      <td>6.086807</td>\n",
       "      <td>3.180000</td>\n",
       "      <td>4.322305</td>\n",
       "      <td>8.385527</td>\n",
       "    </tr>\n",
       "    <tr>\n",
       "      <th>4</th>\n",
       "      <td>US ally</td>\n",
       "      <td>Argentina</td>\n",
       "      <td>Argentina</td>\n",
       "      <td>5</td>\n",
       "      <td>8.840000</td>\n",
       "      <td>Military rule</td>\n",
       "      <td>7.0</td>\n",
       "      <td>10.000000</td>\n",
       "      <td>2.000000</td>\n",
       "      <td>5.180000</td>\n",
       "      <td>...</td>\n",
       "      <td>5.000000</td>\n",
       "      <td>8.960000</td>\n",
       "      <td>5.310000</td>\n",
       "      <td>8.166829</td>\n",
       "      <td>7.040000</td>\n",
       "      <td>7.750000</td>\n",
       "      <td>6.220000</td>\n",
       "      <td>6.150000</td>\n",
       "      <td>7.885423</td>\n",
       "      <td>8.006018</td>\n",
       "    </tr>\n",
       "    <tr>\n",
       "      <th>...</th>\n",
       "      <td>...</td>\n",
       "      <td>...</td>\n",
       "      <td>...</td>\n",
       "      <td>...</td>\n",
       "      <td>...</td>\n",
       "      <td>...</td>\n",
       "      <td>...</td>\n",
       "      <td>...</td>\n",
       "      <td>...</td>\n",
       "      <td>...</td>\n",
       "      <td>...</td>\n",
       "      <td>...</td>\n",
       "      <td>...</td>\n",
       "      <td>...</td>\n",
       "      <td>...</td>\n",
       "      <td>...</td>\n",
       "      <td>...</td>\n",
       "      <td>...</td>\n",
       "      <td>...</td>\n",
       "      <td>...</td>\n",
       "      <td>...</td>\n",
       "    </tr>\n",
       "    <tr>\n",
       "      <th>177</th>\n",
       "      <td>not a US ally</td>\n",
       "      <td>United Arab Emirates</td>\n",
       "      <td>United Arab Emirates</td>\n",
       "      <td>178</td>\n",
       "      <td>7.883240</td>\n",
       "      <td>unknown</td>\n",
       "      <td>NaN</td>\n",
       "      <td>8.920036</td>\n",
       "      <td>1.186616</td>\n",
       "      <td>4.578971</td>\n",
       "      <td>...</td>\n",
       "      <td>3.229744</td>\n",
       "      <td>7.077770</td>\n",
       "      <td>4.057185</td>\n",
       "      <td>6.938671</td>\n",
       "      <td>6.276406</td>\n",
       "      <td>6.520490</td>\n",
       "      <td>7.322635</td>\n",
       "      <td>5.128654</td>\n",
       "      <td>6.661771</td>\n",
       "      <td>7.942938</td>\n",
       "    </tr>\n",
       "    <tr>\n",
       "      <th>178</th>\n",
       "      <td>not a US ally</td>\n",
       "      <td>Bahamas, The</td>\n",
       "      <td>Bahamas, The</td>\n",
       "      <td>179</td>\n",
       "      <td>8.770000</td>\n",
       "      <td>unknown</td>\n",
       "      <td>NaN</td>\n",
       "      <td>7.200000</td>\n",
       "      <td>0.000000</td>\n",
       "      <td>7.506363</td>\n",
       "      <td>...</td>\n",
       "      <td>10.000000</td>\n",
       "      <td>9.480000</td>\n",
       "      <td>6.624903</td>\n",
       "      <td>4.730000</td>\n",
       "      <td>7.775760</td>\n",
       "      <td>9.030000</td>\n",
       "      <td>9.300000</td>\n",
       "      <td>7.359644</td>\n",
       "      <td>4.730000</td>\n",
       "      <td>9.750000</td>\n",
       "    </tr>\n",
       "    <tr>\n",
       "      <th>179</th>\n",
       "      <td>not a US ally</td>\n",
       "      <td>Belize</td>\n",
       "      <td>Belize</td>\n",
       "      <td>180</td>\n",
       "      <td>8.530000</td>\n",
       "      <td>unknown</td>\n",
       "      <td>NaN</td>\n",
       "      <td>7.526888</td>\n",
       "      <td>3.728438</td>\n",
       "      <td>6.498267</td>\n",
       "      <td>...</td>\n",
       "      <td>5.845635</td>\n",
       "      <td>7.754924</td>\n",
       "      <td>5.902861</td>\n",
       "      <td>6.148180</td>\n",
       "      <td>6.456749</td>\n",
       "      <td>8.740000</td>\n",
       "      <td>8.950000</td>\n",
       "      <td>6.257622</td>\n",
       "      <td>6.155688</td>\n",
       "      <td>8.277202</td>\n",
       "    </tr>\n",
       "    <tr>\n",
       "      <th>180</th>\n",
       "      <td>not a US ally</td>\n",
       "      <td>Brunei Darussalam</td>\n",
       "      <td>Brunei Darussalam</td>\n",
       "      <td>181</td>\n",
       "      <td>8.613233</td>\n",
       "      <td>unknown</td>\n",
       "      <td>NaN</td>\n",
       "      <td>6.782913</td>\n",
       "      <td>1.513114</td>\n",
       "      <td>5.809336</td>\n",
       "      <td>...</td>\n",
       "      <td>2.946711</td>\n",
       "      <td>7.015272</td>\n",
       "      <td>4.579663</td>\n",
       "      <td>5.005739</td>\n",
       "      <td>6.219760</td>\n",
       "      <td>7.130951</td>\n",
       "      <td>7.984576</td>\n",
       "      <td>5.083315</td>\n",
       "      <td>4.910823</td>\n",
       "      <td>8.823056</td>\n",
       "    </tr>\n",
       "    <tr>\n",
       "      <th>181</th>\n",
       "      <td>not a US ally</td>\n",
       "      <td>Montenegro</td>\n",
       "      <td>Montenegro</td>\n",
       "      <td>182</td>\n",
       "      <td>8.751386</td>\n",
       "      <td>Single-party rule</td>\n",
       "      <td>4.0</td>\n",
       "      <td>3.934817</td>\n",
       "      <td>1.359974</td>\n",
       "      <td>6.080078</td>\n",
       "      <td>...</td>\n",
       "      <td>1.712646</td>\n",
       "      <td>5.913051</td>\n",
       "      <td>4.497032</td>\n",
       "      <td>3.157375</td>\n",
       "      <td>5.386902</td>\n",
       "      <td>6.889766</td>\n",
       "      <td>7.590613</td>\n",
       "      <td>4.024726</td>\n",
       "      <td>3.092893</td>\n",
       "      <td>9.203655</td>\n",
       "    </tr>\n",
       "  </tbody>\n",
       "</table>\n",
       "<p>182 rows × 43 columns</p>\n",
       "</div>"
      ],
      "text/plain": [
       "          Alliance             Countries                Entity   Id  \\\n",
       "0    not a US ally                   NaN           Afghanistan    1   \n",
       "1    not a US ally               Albania               Albania    2   \n",
       "2    not a US ally               Algeria               Algeria    3   \n",
       "3    not a US ally                Angola                Angola    4   \n",
       "4          US ally             Argentina             Argentina    5   \n",
       "..             ...                   ...                   ...  ...   \n",
       "177  not a US ally  United Arab Emirates  United Arab Emirates  178   \n",
       "178  not a US ally          Bahamas, The          Bahamas, The  179   \n",
       "179  not a US ally                Belize                Belize  180   \n",
       "180  not a US ally     Brunei Darussalam     Brunei Darussalam  181   \n",
       "181  not a US ally            Montenegro            Montenegro  182   \n",
       "\n",
       "     Inflation..Most.recent.year        Regime type  Regimenarrowcat  \\\n",
       "0                       8.649356           Monarchy              8.0   \n",
       "1                       8.268596  Single-party rule              4.0   \n",
       "2                       8.920000      Military rule              7.0   \n",
       "3                       7.416372            unknown              NaN   \n",
       "4                       8.840000      Military rule              7.0   \n",
       "..                           ...                ...              ...   \n",
       "177                     7.883240            unknown              NaN   \n",
       "178                     8.770000            unknown              NaN   \n",
       "179                     8.530000            unknown              NaN   \n",
       "180                     8.613233            unknown              NaN   \n",
       "181                     8.751386  Single-party rule              4.0   \n",
       "\n",
       "     Black.market.exchange.rates  Capital.controls  \\\n",
       "0                       6.300112          1.699655   \n",
       "1                       0.000000          0.000000   \n",
       "2                       0.000000          0.000000   \n",
       "3                       5.159399          0.489726   \n",
       "4                      10.000000          2.000000   \n",
       "..                           ...               ...   \n",
       "177                     8.920036          1.186616   \n",
       "178                     7.200000          0.000000   \n",
       "179                     7.526888          3.728438   \n",
       "180                     6.782913          1.513114   \n",
       "181                     3.934817          1.359974   \n",
       "\n",
       "     Centralized.collective.bargaining  ...  Ownership.of.banks  \\\n",
       "0                             5.897546  ...            3.212626   \n",
       "1                             4.220652  ...           -1.193845   \n",
       "2                             5.540452  ...            0.000000   \n",
       "3                             4.641346  ...            1.404067   \n",
       "4                             5.180000  ...            5.000000   \n",
       "..                                 ...  ...                 ...   \n",
       "177                           4.578971  ...            3.229744   \n",
       "178                           7.506363  ...           10.000000   \n",
       "179                           6.498267  ...            5.845635   \n",
       "180                           5.809336  ...            2.946711   \n",
       "181                           6.080078  ...            1.712646   \n",
       "\n",
       "     Private.sector.credit  Regulation  \\\n",
       "0                 6.896901    4.776903   \n",
       "1                 2.474679    3.230021   \n",
       "2                 5.632514    3.630000   \n",
       "3                 5.706777    3.778725   \n",
       "4                 8.960000    5.310000   \n",
       "..                     ...         ...   \n",
       "177               7.077770    4.057185   \n",
       "178               9.480000    6.624903   \n",
       "179               7.754924    5.902861   \n",
       "180               7.015272    4.579663   \n",
       "181               5.913051    4.497032   \n",
       "\n",
       "     Revenue.from.trade.taxes....of.trade.sector.  Size.of.Government  \\\n",
       "0                                        4.834431            6.041385   \n",
       "1                                        1.441352            2.378599   \n",
       "2                                        2.538643            5.110000   \n",
       "3                                        4.666204            5.434622   \n",
       "4                                        8.166829            7.040000   \n",
       "..                                            ...                 ...   \n",
       "177                                      6.938671            6.276406   \n",
       "178                                      4.730000            7.775760   \n",
       "179                                      6.148180            6.456749   \n",
       "180                                      5.005739            6.219760   \n",
       "181                                      3.157375            5.386902   \n",
       "\n",
       "     Sound.Money  Standard.deviation.of.inflation  State.ownership.of.assets  \\\n",
       "0       7.157306                         8.036588                   5.025106   \n",
       "1       5.228338                         5.976895                   0.180000   \n",
       "2       6.440000                         9.350000                   2.490000   \n",
       "3       5.501005                         6.086807                   3.180000   \n",
       "4       7.750000                         6.220000                   6.150000   \n",
       "..           ...                              ...                        ...   \n",
       "177     6.520490                         7.322635                   5.128654   \n",
       "178     9.030000                         9.300000                   7.359644   \n",
       "179     8.740000                         8.950000                   6.257622   \n",
       "180     7.130951                         7.984576                   5.083315   \n",
       "181     6.889766                         7.590613                   4.024726   \n",
       "\n",
       "      Tariffs  Transfers.and.subsidies  \n",
       "0    4.754259                 8.740967  \n",
       "1    1.181994                 8.262926  \n",
       "2    2.433871                 9.322154  \n",
       "3    4.322305                 8.385527  \n",
       "4    7.885423                 8.006018  \n",
       "..        ...                      ...  \n",
       "177  6.661771                 7.942938  \n",
       "178  4.730000                 9.750000  \n",
       "179  6.155688                 8.277202  \n",
       "180  4.910823                 8.823056  \n",
       "181  3.092893                 9.203655  \n",
       "\n",
       "[182 rows x 43 columns]"
      ]
     },
     "execution_count": 91,
     "metadata": {},
     "output_type": "execute_result"
    }
   ],
   "source": [
    "country_data"
   ]
  },
  {
   "cell_type": "code",
   "execution_count": 92,
   "id": "070b3d6f-82d9-407a-b714-125b9cbf050b",
   "metadata": {},
   "outputs": [
    {
     "data": {
      "text/html": [
       "<div>\n",
       "<style scoped>\n",
       "    .dataframe tbody tr th:only-of-type {\n",
       "        vertical-align: middle;\n",
       "    }\n",
       "\n",
       "    .dataframe tbody tr th {\n",
       "        vertical-align: top;\n",
       "    }\n",
       "\n",
       "    .dataframe thead th {\n",
       "        text-align: right;\n",
       "    }\n",
       "</style>\n",
       "<table border=\"1\" class=\"dataframe\">\n",
       "  <thead>\n",
       "    <tr style=\"text-align: right;\">\n",
       "      <th></th>\n",
       "      <th>Alliance</th>\n",
       "      <th>Countries</th>\n",
       "      <th>Entity</th>\n",
       "      <th>Id</th>\n",
       "      <th>Inflation..Most.recent.year</th>\n",
       "      <th>Regime type</th>\n",
       "      <th>Regimenarrowcat</th>\n",
       "      <th>Black.market.exchange.rates</th>\n",
       "      <th>Capital.controls</th>\n",
       "      <th>Centralized.collective.bargaining</th>\n",
       "      <th>...</th>\n",
       "      <th>Ownership.of.banks</th>\n",
       "      <th>Private.sector.credit</th>\n",
       "      <th>Regulation</th>\n",
       "      <th>Revenue.from.trade.taxes....of.trade.sector.</th>\n",
       "      <th>Size.of.Government</th>\n",
       "      <th>Sound.Money</th>\n",
       "      <th>Standard.deviation.of.inflation</th>\n",
       "      <th>State.ownership.of.assets</th>\n",
       "      <th>Tariffs</th>\n",
       "      <th>Transfers.and.subsidies</th>\n",
       "    </tr>\n",
       "  </thead>\n",
       "  <tbody>\n",
       "    <tr>\n",
       "      <th>0</th>\n",
       "      <td>not a US ally</td>\n",
       "      <td>NaN</td>\n",
       "      <td>Afghanistan</td>\n",
       "      <td>1</td>\n",
       "      <td>8.649356</td>\n",
       "      <td>Monarchy</td>\n",
       "      <td>8.0</td>\n",
       "      <td>6.300112</td>\n",
       "      <td>1.699655</td>\n",
       "      <td>5.897546</td>\n",
       "      <td>...</td>\n",
       "      <td>3.212626</td>\n",
       "      <td>6.896901</td>\n",
       "      <td>4.776903</td>\n",
       "      <td>4.834431</td>\n",
       "      <td>6.041385</td>\n",
       "      <td>7.157306</td>\n",
       "      <td>8.036588</td>\n",
       "      <td>5.025106</td>\n",
       "      <td>4.754259</td>\n",
       "      <td>8.740967</td>\n",
       "    </tr>\n",
       "    <tr>\n",
       "      <th>1</th>\n",
       "      <td>not a US ally</td>\n",
       "      <td>Albania</td>\n",
       "      <td>Albania</td>\n",
       "      <td>2</td>\n",
       "      <td>8.268596</td>\n",
       "      <td>Single-party rule</td>\n",
       "      <td>4.0</td>\n",
       "      <td>0.000000</td>\n",
       "      <td>0.000000</td>\n",
       "      <td>4.220652</td>\n",
       "      <td>...</td>\n",
       "      <td>-1.193845</td>\n",
       "      <td>2.474679</td>\n",
       "      <td>3.230021</td>\n",
       "      <td>1.441352</td>\n",
       "      <td>2.378599</td>\n",
       "      <td>5.228338</td>\n",
       "      <td>5.976895</td>\n",
       "      <td>0.180000</td>\n",
       "      <td>1.181994</td>\n",
       "      <td>8.262926</td>\n",
       "    </tr>\n",
       "    <tr>\n",
       "      <th>2</th>\n",
       "      <td>not a US ally</td>\n",
       "      <td>Algeria</td>\n",
       "      <td>Algeria</td>\n",
       "      <td>3</td>\n",
       "      <td>8.920000</td>\n",
       "      <td>Military rule</td>\n",
       "      <td>7.0</td>\n",
       "      <td>0.000000</td>\n",
       "      <td>0.000000</td>\n",
       "      <td>5.540452</td>\n",
       "      <td>...</td>\n",
       "      <td>0.000000</td>\n",
       "      <td>5.632514</td>\n",
       "      <td>3.630000</td>\n",
       "      <td>2.538643</td>\n",
       "      <td>5.110000</td>\n",
       "      <td>6.440000</td>\n",
       "      <td>9.350000</td>\n",
       "      <td>2.490000</td>\n",
       "      <td>2.433871</td>\n",
       "      <td>9.322154</td>\n",
       "    </tr>\n",
       "    <tr>\n",
       "      <th>3</th>\n",
       "      <td>not a US ally</td>\n",
       "      <td>Angola</td>\n",
       "      <td>Angola</td>\n",
       "      <td>4</td>\n",
       "      <td>7.416372</td>\n",
       "      <td>unknown</td>\n",
       "      <td>NaN</td>\n",
       "      <td>5.159399</td>\n",
       "      <td>0.489726</td>\n",
       "      <td>4.641346</td>\n",
       "      <td>...</td>\n",
       "      <td>1.404067</td>\n",
       "      <td>5.706777</td>\n",
       "      <td>3.778725</td>\n",
       "      <td>4.666204</td>\n",
       "      <td>5.434622</td>\n",
       "      <td>5.501005</td>\n",
       "      <td>6.086807</td>\n",
       "      <td>3.180000</td>\n",
       "      <td>4.322305</td>\n",
       "      <td>8.385527</td>\n",
       "    </tr>\n",
       "    <tr>\n",
       "      <th>4</th>\n",
       "      <td>US ally</td>\n",
       "      <td>Argentina</td>\n",
       "      <td>Argentina</td>\n",
       "      <td>5</td>\n",
       "      <td>8.840000</td>\n",
       "      <td>Military rule</td>\n",
       "      <td>7.0</td>\n",
       "      <td>10.000000</td>\n",
       "      <td>2.000000</td>\n",
       "      <td>5.180000</td>\n",
       "      <td>...</td>\n",
       "      <td>5.000000</td>\n",
       "      <td>8.960000</td>\n",
       "      <td>5.310000</td>\n",
       "      <td>8.166829</td>\n",
       "      <td>7.040000</td>\n",
       "      <td>7.750000</td>\n",
       "      <td>6.220000</td>\n",
       "      <td>6.150000</td>\n",
       "      <td>7.885423</td>\n",
       "      <td>8.006018</td>\n",
       "    </tr>\n",
       "    <tr>\n",
       "      <th>5</th>\n",
       "      <td>not a US ally</td>\n",
       "      <td>Armenia</td>\n",
       "      <td>Armenia</td>\n",
       "      <td>6</td>\n",
       "      <td>8.790985</td>\n",
       "      <td>Single-party rule</td>\n",
       "      <td>4.0</td>\n",
       "      <td>2.585925</td>\n",
       "      <td>0.840822</td>\n",
       "      <td>6.120053</td>\n",
       "      <td>...</td>\n",
       "      <td>0.121847</td>\n",
       "      <td>5.245814</td>\n",
       "      <td>4.010850</td>\n",
       "      <td>1.981034</td>\n",
       "      <td>5.071439</td>\n",
       "      <td>6.635294</td>\n",
       "      <td>7.152537</td>\n",
       "      <td>3.267026</td>\n",
       "      <td>1.910843</td>\n",
       "      <td>9.695219</td>\n",
       "    </tr>\n",
       "    <tr>\n",
       "      <th>6</th>\n",
       "      <td>US ally</td>\n",
       "      <td>Australia</td>\n",
       "      <td>Australia</td>\n",
       "      <td>7</td>\n",
       "      <td>8.900000</td>\n",
       "      <td>Democracy</td>\n",
       "      <td>0.0</td>\n",
       "      <td>10.000000</td>\n",
       "      <td>2.000000</td>\n",
       "      <td>5.180000</td>\n",
       "      <td>...</td>\n",
       "      <td>8.000000</td>\n",
       "      <td>5.770000</td>\n",
       "      <td>5.720000</td>\n",
       "      <td>7.530000</td>\n",
       "      <td>7.850000</td>\n",
       "      <td>9.580000</td>\n",
       "      <td>9.610000</td>\n",
       "      <td>7.380000</td>\n",
       "      <td>7.530000</td>\n",
       "      <td>6.968283</td>\n",
       "    </tr>\n",
       "    <tr>\n",
       "      <th>7</th>\n",
       "      <td>not a US ally</td>\n",
       "      <td>Austria</td>\n",
       "      <td>Austria</td>\n",
       "      <td>8</td>\n",
       "      <td>9.050000</td>\n",
       "      <td>Democracy</td>\n",
       "      <td>0.0</td>\n",
       "      <td>10.000000</td>\n",
       "      <td>2.000000</td>\n",
       "      <td>4.490000</td>\n",
       "      <td>...</td>\n",
       "      <td>5.000000</td>\n",
       "      <td>8.470000</td>\n",
       "      <td>5.160000</td>\n",
       "      <td>8.270000</td>\n",
       "      <td>6.030000</td>\n",
       "      <td>8.380000</td>\n",
       "      <td>9.710000</td>\n",
       "      <td>4.780000</td>\n",
       "      <td>8.270000</td>\n",
       "      <td>6.070000</td>\n",
       "    </tr>\n",
       "    <tr>\n",
       "      <th>8</th>\n",
       "      <td>not a US ally</td>\n",
       "      <td>Azerbaijan</td>\n",
       "      <td>Azerbaijan</td>\n",
       "      <td>9</td>\n",
       "      <td>8.789476</td>\n",
       "      <td>Single-party rule</td>\n",
       "      <td>4.0</td>\n",
       "      <td>2.637312</td>\n",
       "      <td>0.860599</td>\n",
       "      <td>6.118530</td>\n",
       "      <td>...</td>\n",
       "      <td>0.182449</td>\n",
       "      <td>5.271233</td>\n",
       "      <td>4.029372</td>\n",
       "      <td>2.025847</td>\n",
       "      <td>5.083457</td>\n",
       "      <td>6.644988</td>\n",
       "      <td>7.169226</td>\n",
       "      <td>3.295890</td>\n",
       "      <td>1.955874</td>\n",
       "      <td>9.676493</td>\n",
       "    </tr>\n",
       "    <tr>\n",
       "      <th>9</th>\n",
       "      <td>not a US ally</td>\n",
       "      <td>Bahrain</td>\n",
       "      <td>Bahrain</td>\n",
       "      <td>10</td>\n",
       "      <td>9.670000</td>\n",
       "      <td>unknown</td>\n",
       "      <td>NaN</td>\n",
       "      <td>10.122702</td>\n",
       "      <td>2.000000</td>\n",
       "      <td>6.308791</td>\n",
       "      <td>...</td>\n",
       "      <td>3.542682</td>\n",
       "      <td>10.000000</td>\n",
       "      <td>4.570043</td>\n",
       "      <td>6.122321</td>\n",
       "      <td>7.220193</td>\n",
       "      <td>9.560000</td>\n",
       "      <td>9.440000</td>\n",
       "      <td>2.550000</td>\n",
       "      <td>6.210918</td>\n",
       "      <td>9.231391</td>\n",
       "    </tr>\n",
       "  </tbody>\n",
       "</table>\n",
       "<p>10 rows × 43 columns</p>\n",
       "</div>"
      ],
      "text/plain": [
       "        Alliance   Countries       Entity  Id  Inflation..Most.recent.year  \\\n",
       "0  not a US ally         NaN  Afghanistan   1                     8.649356   \n",
       "1  not a US ally     Albania      Albania   2                     8.268596   \n",
       "2  not a US ally     Algeria      Algeria   3                     8.920000   \n",
       "3  not a US ally      Angola       Angola   4                     7.416372   \n",
       "4        US ally   Argentina    Argentina   5                     8.840000   \n",
       "5  not a US ally     Armenia      Armenia   6                     8.790985   \n",
       "6        US ally   Australia    Australia   7                     8.900000   \n",
       "7  not a US ally     Austria      Austria   8                     9.050000   \n",
       "8  not a US ally  Azerbaijan   Azerbaijan   9                     8.789476   \n",
       "9  not a US ally     Bahrain      Bahrain  10                     9.670000   \n",
       "\n",
       "         Regime type  Regimenarrowcat  Black.market.exchange.rates  \\\n",
       "0           Monarchy              8.0                     6.300112   \n",
       "1  Single-party rule              4.0                     0.000000   \n",
       "2      Military rule              7.0                     0.000000   \n",
       "3            unknown              NaN                     5.159399   \n",
       "4      Military rule              7.0                    10.000000   \n",
       "5  Single-party rule              4.0                     2.585925   \n",
       "6          Democracy              0.0                    10.000000   \n",
       "7          Democracy              0.0                    10.000000   \n",
       "8  Single-party rule              4.0                     2.637312   \n",
       "9            unknown              NaN                    10.122702   \n",
       "\n",
       "   Capital.controls  Centralized.collective.bargaining  ...  \\\n",
       "0          1.699655                           5.897546  ...   \n",
       "1          0.000000                           4.220652  ...   \n",
       "2          0.000000                           5.540452  ...   \n",
       "3          0.489726                           4.641346  ...   \n",
       "4          2.000000                           5.180000  ...   \n",
       "5          0.840822                           6.120053  ...   \n",
       "6          2.000000                           5.180000  ...   \n",
       "7          2.000000                           4.490000  ...   \n",
       "8          0.860599                           6.118530  ...   \n",
       "9          2.000000                           6.308791  ...   \n",
       "\n",
       "   Ownership.of.banks  Private.sector.credit  Regulation  \\\n",
       "0            3.212626               6.896901    4.776903   \n",
       "1           -1.193845               2.474679    3.230021   \n",
       "2            0.000000               5.632514    3.630000   \n",
       "3            1.404067               5.706777    3.778725   \n",
       "4            5.000000               8.960000    5.310000   \n",
       "5            0.121847               5.245814    4.010850   \n",
       "6            8.000000               5.770000    5.720000   \n",
       "7            5.000000               8.470000    5.160000   \n",
       "8            0.182449               5.271233    4.029372   \n",
       "9            3.542682              10.000000    4.570043   \n",
       "\n",
       "   Revenue.from.trade.taxes....of.trade.sector.  Size.of.Government  \\\n",
       "0                                      4.834431            6.041385   \n",
       "1                                      1.441352            2.378599   \n",
       "2                                      2.538643            5.110000   \n",
       "3                                      4.666204            5.434622   \n",
       "4                                      8.166829            7.040000   \n",
       "5                                      1.981034            5.071439   \n",
       "6                                      7.530000            7.850000   \n",
       "7                                      8.270000            6.030000   \n",
       "8                                      2.025847            5.083457   \n",
       "9                                      6.122321            7.220193   \n",
       "\n",
       "   Sound.Money  Standard.deviation.of.inflation  State.ownership.of.assets  \\\n",
       "0     7.157306                         8.036588                   5.025106   \n",
       "1     5.228338                         5.976895                   0.180000   \n",
       "2     6.440000                         9.350000                   2.490000   \n",
       "3     5.501005                         6.086807                   3.180000   \n",
       "4     7.750000                         6.220000                   6.150000   \n",
       "5     6.635294                         7.152537                   3.267026   \n",
       "6     9.580000                         9.610000                   7.380000   \n",
       "7     8.380000                         9.710000                   4.780000   \n",
       "8     6.644988                         7.169226                   3.295890   \n",
       "9     9.560000                         9.440000                   2.550000   \n",
       "\n",
       "    Tariffs  Transfers.and.subsidies  \n",
       "0  4.754259                 8.740967  \n",
       "1  1.181994                 8.262926  \n",
       "2  2.433871                 9.322154  \n",
       "3  4.322305                 8.385527  \n",
       "4  7.885423                 8.006018  \n",
       "5  1.910843                 9.695219  \n",
       "6  7.530000                 6.968283  \n",
       "7  8.270000                 6.070000  \n",
       "8  1.955874                 9.676493  \n",
       "9  6.210918                 9.231391  \n",
       "\n",
       "[10 rows x 43 columns]"
      ]
     },
     "execution_count": 92,
     "metadata": {},
     "output_type": "execute_result"
    }
   ],
   "source": [
    "country_data.head(10)"
   ]
  },
  {
   "cell_type": "code",
   "execution_count": 93,
   "id": "b2613b41-cf67-4c96-ac72-5c6a8f41ae5d",
   "metadata": {},
   "outputs": [
    {
     "data": {
      "text/plain": [
       "0               Afghanistan\n",
       "1                   Albania\n",
       "2                   Algeria\n",
       "3                    Angola\n",
       "4                 Argentina\n",
       "               ...         \n",
       "177    United Arab Emirates\n",
       "178            Bahamas, The\n",
       "179                  Belize\n",
       "180       Brunei Darussalam\n",
       "181              Montenegro\n",
       "Name: Entity, Length: 182, dtype: object"
      ]
     },
     "execution_count": 93,
     "metadata": {},
     "output_type": "execute_result"
    }
   ],
   "source": [
    "country_data['Entity']"
   ]
  },
  {
   "cell_type": "code",
   "execution_count": 98,
   "id": "e7fe0a26-0ad9-41ce-84ca-1d864e084be7",
   "metadata": {},
   "outputs": [
    {
     "data": {
      "text/plain": [
       "0      0.266\n",
       "1      0.006\n",
       "2      0.428\n",
       "3      0.024\n",
       "4      0.354\n",
       "       ...  \n",
       "177      NaN\n",
       "178      NaN\n",
       "179      NaN\n",
       "180      NaN\n",
       "181      NaN\n",
       "Name: Indiv Libs Vdem Owid, Length: 182, dtype: float64"
      ]
     },
     "execution_count": 98,
     "metadata": {},
     "output_type": "execute_result"
    }
   ],
   "source": [
    "country_data['Indiv Libs Vdem Owid']"
   ]
  },
  {
   "cell_type": "code",
   "execution_count": 99,
   "id": "016d3bbb-ee63-4483-9850-3eed44043169",
   "metadata": {},
   "outputs": [
    {
     "data": {
      "text/plain": [
       "0    0.266\n",
       "1    0.006\n",
       "2    0.428\n",
       "3    0.024\n",
       "4    0.354\n",
       "5    0.094\n",
       "6    0.980\n",
       "Name: Indiv Libs Vdem Owid, dtype: float64"
      ]
     },
     "execution_count": 99,
     "metadata": {},
     "output_type": "execute_result"
    }
   ],
   "source": [
    "country_data['Indiv Libs Vdem Owid'].head(7)"
   ]
  },
  {
   "cell_type": "code",
   "execution_count": 100,
   "id": "a18ac3ee-f316-4495-a862-000c37b2af20",
   "metadata": {},
   "outputs": [],
   "source": [
    "country_data = pd.read_csv('Countries_of_the_world_1970.csv')"
   ]
  },
  {
   "cell_type": "code",
   "execution_count": 101,
   "id": "da3b1e30-bbfd-49c0-ba71-67758520f580",
   "metadata": {},
   "outputs": [
    {
     "data": {
      "text/plain": [
       "0      0.266\n",
       "1      0.006\n",
       "2      0.428\n",
       "3      0.024\n",
       "4      0.354\n",
       "       ...  \n",
       "177      NaN\n",
       "178      NaN\n",
       "179      NaN\n",
       "180      NaN\n",
       "181      NaN\n",
       "Name: indiv_libs_vdem_owid, Length: 182, dtype: float64"
      ]
     },
     "execution_count": 101,
     "metadata": {},
     "output_type": "execute_result"
    }
   ],
   "source": [
    "country_data['indiv_libs_vdem_owid']"
   ]
  },
  {
   "cell_type": "code",
   "execution_count": 103,
   "id": "ab0450fd-3313-48a5-b413-933f808b93db",
   "metadata": {},
   "outputs": [],
   "source": [
    "country_data['indiv_libs_vdem_owid_100'] = country_data['indiv_libs_vdem_owid']*100"
   ]
  },
  {
   "cell_type": "code",
   "execution_count": 104,
   "id": "aeefe97f-ff2d-480e-a062-49af0675e4d1",
   "metadata": {},
   "outputs": [
    {
     "data": {
      "text/plain": [
       "0    26.6\n",
       "1     0.6\n",
       "2    42.8\n",
       "3     2.4\n",
       "4    35.4\n",
       "5     9.4\n",
       "6    98.0\n",
       "Name: indiv_libs_vdem_owid_100, dtype: float64"
      ]
     },
     "execution_count": 104,
     "metadata": {},
     "output_type": "execute_result"
    }
   ],
   "source": [
    "country_data['indiv_libs_vdem_owid_100'].head(7)"
   ]
  },
  {
   "cell_type": "code",
   "execution_count": 106,
   "id": "c65a4f09-0d08-4e96-b6fd-f521d6a6dd31",
   "metadata": {},
   "outputs": [],
   "source": [
    "country_data.to_csv('test_csv.csv')"
   ]
  },
  {
   "cell_type": "code",
   "execution_count": 109,
   "id": "8f7c1723-305a-4fe8-bf74-4a739ae49da9",
   "metadata": {},
   "outputs": [
    {
     "name": "stdout",
     "output_type": "stream",
     "text": [
      "<class 'pandas.core.frame.DataFrame'>\n",
      "RangeIndex: 182 entries, 0 to 181\n",
      "Data columns (total 44 columns):\n",
      " #   Column                                                Non-Null Count  Dtype  \n",
      "---  ------                                                --------------  -----  \n",
      " 0   Entity                                                182 non-null    object \n",
      " 1   indiv_libs_vdem_owid                                  177 non-null    float64\n",
      " 2   electdem_vdem_owid                                    177 non-null    float64\n",
      " 3   libdem_vdem_owid                                      175 non-null    float64\n",
      " 4   Countries                                             165 non-null    object \n",
      " 5   Economic.Freedom.Summary.Index                        182 non-null    float64\n",
      " 6   Government.consumption                                182 non-null    float64\n",
      " 7   Transfers.and.subsidies                               182 non-null    float64\n",
      " 8   Government.investment                                 182 non-null    float64\n",
      " 9   State.ownership.of.assets                             182 non-null    float64\n",
      " 10  Size.of.Government                                    182 non-null    float64\n",
      " 11  Judicial.independence                                 182 non-null    float64\n",
      " 12  Impartial.courts                                      182 non-null    float64\n",
      " 13  Integrity.of.the.legal.system                         182 non-null    float64\n",
      " 14  Legal.enforcement.of.contracts                        182 non-null    float64\n",
      " 15  Gender.Legal.Rights.Adjustment                        182 non-null    float64\n",
      " 16  Legal.System...Property.Rights                        182 non-null    float64\n",
      " 17  Money.growth                                          182 non-null    float64\n",
      " 18  Standard.deviation.of.inflation                       182 non-null    float64\n",
      " 19  Inflation..Most.recent.year                           182 non-null    float64\n",
      " 20  Freedom.to.own.foreign.currency.bank.accounts         182 non-null    float64\n",
      " 21  Sound.Money                                           182 non-null    float64\n",
      " 22  Revenue.from.trade.taxes....of.trade.sector.          182 non-null    float64\n",
      " 23  Tariffs                                               182 non-null    float64\n",
      " 24  Black.market.exchange.rates                           182 non-null    float64\n",
      " 25  Financial.Openness                                    182 non-null    float64\n",
      " 26  Capital.controls                                      182 non-null    float64\n",
      " 27  Controls.of.the.movement.of.capital.and.people        182 non-null    float64\n",
      " 28  Freedom.to.trade.Internationally                      182 non-null    float64\n",
      " 29  Ownership.of.banks                                    182 non-null    float64\n",
      " 30  Private.sector.credit                                 182 non-null    float64\n",
      " 31  Interest.rate.controls.negative.real.interest.rates.  182 non-null    float64\n",
      " 32  Credit.market.regulations                             182 non-null    float64\n",
      " 33  Centralized.collective.bargaining                     182 non-null    float64\n",
      " 34  Hours.Regulations                                     182 non-null    float64\n",
      " 35  Conscription                                          182 non-null    float64\n",
      " 36  Labor.market.regulations                              182 non-null    float64\n",
      " 37  Impartial.Public.Administration                       182 non-null    float64\n",
      " 38  Regulation                                            182 non-null    float64\n",
      " 39  alliance                                              182 non-null    object \n",
      " 40  regimenarrowcat                                       161 non-null    float64\n",
      " 41  Regime_type                                           182 non-null    object \n",
      " 42  id                                                    182 non-null    int64  \n",
      " 43  indiv_libs_vdem_owid_100                              177 non-null    float64\n",
      "dtypes: float64(39), int64(1), object(4)\n",
      "memory usage: 62.7+ KB\n"
     ]
    }
   ],
   "source": [
    "country_data.info()\n",
    "# this is how we can get to see the columns (names) and we can choose what data to cite"
   ]
  },
  {
   "cell_type": "code",
   "execution_count": 111,
   "id": "f1db3261-35d7-4001-9466-dc0a4ecaa86f",
   "metadata": {},
   "outputs": [
    {
     "data": {
      "text/plain": [
       "(182, 44)"
      ]
     },
     "execution_count": 111,
     "metadata": {},
     "output_type": "execute_result"
    }
   ],
   "source": [
    "country_data.shape\n",
    "# how many rows and columns"
   ]
  },
  {
   "cell_type": "code",
   "execution_count": 113,
   "id": "49bbac7f-f5f2-4fc8-8858-e40b2544ba34",
   "metadata": {},
   "outputs": [
    {
     "name": "stdout",
     "output_type": "stream",
     "text": [
      "Afghanistan\n",
      "Albania\n",
      "Algeria\n",
      "Angola\n",
      "Argentina\n",
      "Armenia\n",
      "Australia\n",
      "Austria\n",
      "Azerbaijan\n",
      "Bahrain\n",
      "Bangladesh\n",
      "Barbados\n",
      "Belarus\n",
      "Belgium\n",
      "Benin\n",
      "Bhutan\n",
      "Bolivia\n",
      "Bosnia and Herzegovina\n",
      "Botswana\n",
      "Brazil\n",
      "Bulgaria\n",
      "Burkina Faso\n",
      "Burundi\n",
      "Cambodia\n",
      "Cameroon\n",
      "Canada\n",
      "Cape Verde\n",
      "Central African Republic\n",
      "Chad\n",
      "Chile\n",
      "China\n",
      "Colombia\n",
      "Comoros\n",
      "Congo\n",
      "Costa Rica\n",
      "Cote d'Ivoire\n",
      "Croatia\n",
      "Cuba\n",
      "Cyprus\n",
      "Czechia\n",
      "Democratic Republic of Congo\n",
      "Denmark\n",
      "Djibouti\n",
      "Dominican Republic\n",
      "East Germany\n",
      "Ecuador\n",
      "Egypt\n",
      "El Salvador\n",
      "Equatorial Guinea\n",
      "Eritrea\n",
      "Estonia\n",
      "Eswatini\n",
      "Ethiopia\n",
      "Fiji\n",
      "Finland\n",
      "France\n",
      "Gabon\n",
      "Gambia\n",
      "Georgia\n",
      "Germany\n",
      "Ghana\n",
      "Greece\n",
      "Guatemala\n",
      "Guinea\n",
      "Guinea-Bissau\n",
      "Guyana\n",
      "Haiti\n",
      "Honduras\n",
      "Hong Kong\n",
      "Hungary\n",
      "Iceland\n",
      "India\n",
      "Indonesia\n",
      "Iran\n",
      "Iraq\n",
      "Ireland\n",
      "Israel\n",
      "Italy\n",
      "Jamaica\n",
      "Japan\n",
      "Jordan\n",
      "Kazakhstan\n",
      "Kenya\n",
      "Kuwait\n",
      "Kyrgyzstan\n",
      "Laos\n",
      "Latvia\n",
      "Lebanon\n",
      "Lesotho\n",
      "Liberia\n",
      "Libya\n",
      "Lithuania\n",
      "Luxembourg\n",
      "Madagascar\n",
      "Malawi\n",
      "Malaysia\n",
      "Maldives\n",
      "Mali\n",
      "Malta\n",
      "Mauritania\n",
      "Mauritius\n",
      "Mexico\n",
      "Moldova\n",
      "Mongolia\n",
      "Morocco\n",
      "Mozambique\n",
      "Myanmar\n",
      "Namibia\n",
      "Nepal\n",
      "Netherlands\n",
      "New Zealand\n",
      "Nicaragua\n",
      "Niger\n",
      "Nigeria\n",
      "North Korea\n",
      "North Macedonia\n",
      "Norway\n",
      "Oman\n",
      "Pakistan\n",
      "Palestine/West Bank\n",
      "Panama\n",
      "Papua New Guinea\n",
      "Paraguay\n",
      "Peru\n",
      "Philippines\n",
      "Poland\n",
      "Portugal\n",
      "Qatar\n",
      "Republic of Vietnam\n",
      "Romania\n",
      "Russia\n",
      "Rwanda\n",
      "Sao Tome and Principe\n",
      "Saudi Arabia\n",
      "Senegal\n",
      "Serbia\n",
      "Seychelles\n",
      "Sierra Leone\n",
      "Singapore\n",
      "Slovakia\n",
      "Slovenia\n",
      "Solomon Islands\n",
      "Somalia\n",
      "South Africa\n",
      "South Korea\n",
      "South Sudan\n",
      "Spain\n",
      "Sri Lanka\n",
      "Sudan\n",
      "Suriname\n",
      "Sweden\n",
      "Switzerland\n",
      "Syria\n",
      "Taiwan\n",
      "Tajikistan\n",
      "Tanzania\n",
      "Thailand\n",
      "Timor\n",
      "Togo\n",
      "Trinidad and Tobago\n",
      "Tunisia\n",
      "Turkey\n",
      "Turkmenistan\n",
      "Uganda\n",
      "Ukraine\n",
      "United Kingdom\n",
      "United States\n",
      "Uruguay\n",
      "Uzbekistan\n",
      "Vanuatu\n",
      "Venezuela\n",
      "Vietnam\n",
      "Yemen\n",
      "Yemen People's Republic\n",
      "Zambia\n",
      "Zanzibar\n",
      "Zimbabwe\n",
      "United Arab Emirates\n",
      "Bahamas, The\n",
      "Belize\n",
      "Brunei Darussalam\n",
      "Montenegro\n"
     ]
    }
   ],
   "source": [
    "for i in range(0, country_data.shape[0]):\n",
    "    print(country_data['Entity'][i])"
   ]
  },
  {
   "cell_type": "code",
   "execution_count": null,
   "id": "47a128d3-db73-40f9-ace9-d38a171e23b1",
   "metadata": {},
   "outputs": [],
   "source": []
  }
 ],
 "metadata": {
  "kernelspec": {
   "display_name": "Python 3 (ipykernel)",
   "language": "python",
   "name": "python3"
  },
  "language_info": {
   "codemirror_mode": {
    "name": "ipython",
    "version": 3
   },
   "file_extension": ".py",
   "mimetype": "text/x-python",
   "name": "python",
   "nbconvert_exporter": "python",
   "pygments_lexer": "ipython3",
   "version": "3.11.1"
  }
 },
 "nbformat": 4,
 "nbformat_minor": 5
}
